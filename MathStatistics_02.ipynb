{
  "nbformat": 4,
  "nbformat_minor": 0,
  "metadata": {
    "colab": {
      "name": "MathStatistics_02.ipynb",
      "provenance": [],
      "collapsed_sections": []
    },
    "kernelspec": {
      "name": "python3",
      "display_name": "Python 3"
    }
  },
  "cells": [
    {
      "cell_type": "markdown",
      "metadata": {
        "id": "4hpslyBipSak",
        "colab_type": "text"
      },
      "source": [
        "# Решения задания к уроку 2"
      ]
    },
    {
      "cell_type": "markdown",
      "metadata": {
        "id": "fuse4k4OpX5F",
        "colab_type": "text"
      },
      "source": [
        "__Задача 1__\n",
        "\n",
        "Контрольная работа состоит из пяти вопросов. На каждый вопрос приведено четыре варианта ответа, один из которых правильный. Составьте закон распределения числа правильных ответов при простом угадывании. Найдите `M(X)`, `D(X)`.\n"
      ]
    },
    {
      "cell_type": "markdown",
      "metadata": {
        "id": "ukwk9E_1pzYh",
        "colab_type": "text"
      },
      "source": [
        "__Решение__\n",
        "\n",
        "$ n = 5\\,$, то есть имеется 5 вопросов на которые надо ответить\n",
        "\n",
        "$ p = \\frac{1}{4}\\, $, то есть дано 4 варианта ответов и только один из них правильный, вероятность угадать правильный равен $\\frac{1}{4}$\n",
        "\n",
        "$ k = [0,1,2,3,4,5]\\,$, возможные исходы угаданных былетов \n",
        "\n",
        "Рассчитаем вероятность каждого исхода по формуле Бернулли:\n",
        "\n",
        "$$P(X = k) = C_n^k p^k (1 - p)^{n - k}$$\n"
      ]
    },
    {
      "cell_type": "code",
      "metadata": {
        "id": "Du2yr2Iio_Cs",
        "colab_type": "code",
        "colab": {}
      },
      "source": [
        "import numpy as np\n",
        "import matplotlib.pyplot as plt\n",
        "\n",
        "def combinations(n,k): #функция вычисления числа комбинаций\n",
        "  return int(np.math.factorial(n)/(np.math.factorial(k)*np.math.factorial(n-k)))\n",
        "  \n",
        "def ber(n,k,p): # функция вычисления вероятности по формуле Бернулли\n",
        "  return combinations(n,k)*p**k*(1-p)**(n-k)"
      ],
      "execution_count": 2,
      "outputs": []
    },
    {
      "cell_type": "code",
      "metadata": {
        "id": "2q2wbzKMpVNY",
        "colab_type": "code",
        "colab": {}
      },
      "source": [
        "# Определим векторную функцию вычисления вероятности по формуле Бернулли:\n",
        "def pber(k):\n",
        "  n = 5\n",
        "  p = 1/4\n",
        "  return ber(n,k,p)\n",
        "pvec = np.vectorize(pber)"
      ],
      "execution_count": 3,
      "outputs": []
    },
    {
      "cell_type": "code",
      "metadata": {
        "id": "iEWj6afNsmKY",
        "colab_type": "code",
        "colab": {
          "base_uri": "https://localhost:8080/",
          "height": 119
        },
        "outputId": "54474c37-d647-459a-f626-3096e5bc76ef"
      },
      "source": [
        "x = np.arange(6) # возможные исходы\n",
        "px = pvec(x) # вероятности возможных исходов\n",
        "for i in range(6):\n",
        "  print (x[i], '\\t',px[i])"
      ],
      "execution_count": null,
      "outputs": [
        {
          "output_type": "stream",
          "text": [
            "0 \t 0.2373046875\n",
            "1 \t 0.3955078125\n",
            "2 \t 0.263671875\n",
            "3 \t 0.087890625\n",
            "4 \t 0.0146484375\n",
            "5 \t 0.0009765625\n"
          ],
          "name": "stdout"
        }
      ]
    },
    {
      "cell_type": "code",
      "metadata": {
        "id": "TbqP6z2Ttctx",
        "colab_type": "code",
        "colab": {
          "base_uri": "https://localhost:8080/",
          "height": 282
        },
        "outputId": "0064dcae-9d65-489d-8a3e-66c62223cbcb"
      },
      "source": [
        "import matplotlib.pyplot as plt\n",
        "plt.plot(px)"
      ],
      "execution_count": null,
      "outputs": [
        {
          "output_type": "execute_result",
          "data": {
            "text/plain": [
              "[<matplotlib.lines.Line2D at 0x7f2833820d68>]"
            ]
          },
          "metadata": {
            "tags": []
          },
          "execution_count": 5
        },
        {
          "output_type": "display_data",
          "data": {
            "image/png": "[encoded data removed]",
            "text/plain": [
              "<Figure size 432x288 with 1 Axes>"
            ]
          },
          "metadata": {
            "tags": [],
            "needs_background": "light"
          }
        }
      ]
    },
    {
      "cell_type": "code",
      "metadata": {
        "id": "b_0B47lQtkTb",
        "colab_type": "code",
        "colab": {
          "base_uri": "https://localhost:8080/",
          "height": 34
        },
        "outputId": "e6fcafd8-a1a3-47e8-c5d9-233954a4119b"
      },
      "source": [
        "# матожидание m\n",
        "m = (x*px).sum()\n",
        "# дисперсия d\n",
        "d = ((x-m)**2*px).sum()\n",
        "m,d"
      ],
      "execution_count": null,
      "outputs": [
        {
          "output_type": "execute_result",
          "data": {
            "text/plain": [
              "(1.25, 0.9375)"
            ]
          },
          "metadata": {
            "tags": []
          },
          "execution_count": 7
        }
      ]
    },
    {
      "cell_type": "markdown",
      "metadata": {
        "id": "f_WaQVSXvAkT",
        "colab_type": "text"
      },
      "source": [
        "Также математическое ожидание и дисперсию для биномиально распределённой дискретной величины можно вычислить по формулам:\n",
        "$$M(X) = np, \\: D(X) = np(1 - p).$$\n",
        "\n",
        "То есть:\n",
        "\n",
        "$$M(X) = np = 5 * \\frac{1}{4} = \\frac{5}{4} = 1.25 $$ \n",
        "$$ D(X) = np(1 - p) =  \\frac{5}{4} * ( 1 - \\frac{1}{4})  = \\frac{15}{16} = 0.9375$$\n",
        "\n",
        "\n"
      ]
    },
    {
      "cell_type": "markdown",
      "metadata": {
        "id": "ah5O-rv4pjpV",
        "colab_type": "text"
      },
      "source": [
        "__Задача 2__\n",
        "\n",
        "Пользователь получает в среднем 10 писем со спамом на свой почтовый ящик за сутки. Найти число `N`, такое, что с вероятностью 0.95 пользователь получит не более `N` писем со спамом за текущий день.\n",
        "\n"
      ]
    },
    {
      "cell_type": "markdown",
      "metadata": {
        "id": "AyCcQhMkwW2E",
        "colab_type": "text"
      },
      "source": [
        "__Решение__\n",
        "Воспользуемся формулой Пуассона:\n",
        "$$P(X = k) = \\dfrac{\\lambda^k e^{-\\lambda}}{k!}$$\n",
        "\n",
        "в нашем случае $ \\lambda = 10 $, и нам необходимо найти такое $k $, чтобы $P(X \\leq k) =  \\displaystyle\\sum_{i = 0}^{k} \\dfrac{\\lambda^k e^{-\\lambda}}{k!} \\geq 0.95 $"
      ]
    },
    {
      "cell_type": "code",
      "metadata": {
        "id": "J8veoOsKpmTq",
        "colab_type": "code",
        "colab": {}
      },
      "source": [
        "def pois (k, lamb): # Формула Пуассона\n",
        "  return (lamb** k) * (np.exp(-lamb)) / np.math.factorial(k)\n"
      ],
      "execution_count": 6,
      "outputs": []
    },
    {
      "cell_type": "code",
      "metadata": {
        "id": "PmZXqAxF4Srj",
        "colab_type": "code",
        "colab": {
          "base_uri": "https://localhost:8080/",
          "height": 34
        },
        "outputId": "2e08979f-c3a6-41de-9666-6a691b3ee1ac"
      },
      "source": [
        "p = 0.95 # требуемая вероятность\n",
        "lamb = 10 \n",
        "\n",
        "n = -1 # начальное приближение числа N\n",
        "pp = 0\n",
        "while  pp < p:\n",
        "  n += 1\n",
        "  pp += pois(n, lamb)\n",
        "print(f'Пользователь получит не более N = {n} писем со спамом за текущий день вероятностью {pp}')\n"
      ],
      "execution_count": 13,
      "outputs": [
        {
          "output_type": "stream",
          "text": [
            "Пользователь получит не более N = 15 писем со спамом за текущий день вероятностью 0.9512595966960214\n"
          ],
          "name": "stdout"
        }
      ]
    },
    {
      "cell_type": "markdown",
      "metadata": {
        "id": "FkKRaRN0pntQ",
        "colab_type": "text"
      },
      "source": [
        "__Задача 3__\n",
        "\n",
        "Производятся выстрелы по мишени. Вероятность попадания в мишень при одном выстреле равна 0.01. Сколько выстрелов нужно сделать чтобы быть уверенным с вероятностью 0.9, что хотя бы 6 раз будет совершено попадание?\n",
        "\n",
        "_Подсказка_. 1) \"Вероятность попасть `k` раз при `n` выстрелах\" - на какое распределение это похоже? 2) А если нам нужна вероятность `P(X >= k)`, а не `P(X = k)`? 3) Здесь предстоит немножко покодить."
      ]
    },
    {
      "cell_type": "markdown",
      "metadata": {
        "id": "13Zv8zHK3mLR",
        "colab_type": "text"
      },
      "source": [
        "__Решение__\n",
        "\n",
        "Вероятность попасть $k$ раз из $n$ выстрелов при вероятности попасть $p$ рассчитывается по формуле Бернулли:\n",
        "\n",
        "$$P(X = k) = C_n^k p^k (1 - p)^{n - k}$$\n",
        "\n",
        "Нам необходимо найти такое количество $n$,  при котором с вероятности попали хотя бы 6 раз, это значит необходимо рассчитывать вероятность для все к >=6.\n",
        "\n",
        "Но можно посчитать вероятность для к < 6\n",
        "\n",
        "Тогда $$P(X \\geq k) = 1 - P(X < k)$$\n",
        "\n",
        "Следовательно нам надо найти такое $n$ при котором \n",
        "\n",
        "$$P(X \\geq k) = 1 - P(X < k) = 1 - \\sum_{i=0}^{k-1}C_n^k p^k (1 - p)^{n - k} \\leq 0.9$$\n"
      ]
    },
    {
      "cell_type": "code",
      "metadata": {
        "id": "LthT4YX56o_E",
        "colab_type": "code",
        "colab": {
          "base_uri": "https://localhost:8080/",
          "height": 34
        },
        "outputId": "506ff982-7482-46f0-fa64-4b62643cbd5b"
      },
      "source": [
        "q = 0.9 # требуемая вероятность\n",
        "p = 0.01 # вероятность попадания при выстреле\n",
        "k = 6 # количество попаданий\n",
        "n = k-1\n",
        "pn = 1\n",
        "while (1-pn) < q:\n",
        "  n += 1\n",
        "  pn = sum(ber(n,i,p) for i in range(k))\n",
        "\n",
        "print(f'Необходимо сделать {n} выстрелов чтобы быть уверенным с вероятностью {q}, что хотя бы {k} раз будет совершено попадание')"
      ],
      "execution_count": null,
      "outputs": [
        {
          "output_type": "stream",
          "text": [
            "Необходимо сделать 926 выстрелов чтобы быть уверенным с вероятностью 0.9, что хотя бы 6 раз будет совершено попадание\n"
          ],
          "name": "stdout"
        }
      ]
    },
    {
      "cell_type": "markdown",
      "metadata": {
        "id": "mX8omhN5gvMj",
        "colab_type": "text"
      },
      "source": [
        "__Альтернатичное решение__\n",
        "\n",
        "(я понимаю что  здесь логика другая и возможно это решение другой задачи, но \n",
        "рассуждение логичное)\n",
        "\n",
        "Допустим у наc есть событие А, которое происходит с вероятностью $p$ тогда при 6 независимых испытаний в которых произойдут события А 6 раз будет с вероятность $p^6$ \n",
        "\n",
        "Рассмотрим Геометрическое распределение. \n",
        "\n",
        "Полная вероятность до первого наступления событий:\n",
        "\n",
        "$$P = \\sum_{i = 0}^k(1 - p)^i \\cdot p$$\n",
        "\n",
        "$p = 0.01$\n",
        "\n",
        "\n",
        "Для того чтоб ынайти количество выстрелов  чтобы  с вероятностью 0.9 попасть хотя бы раз в мишень , \n",
        "нам необходимо найти такое $k $, чтобы $P =  \\sum_{i = 0}^k(1 - p)^i \\cdot p \\geq 0.9$\n",
        "\n"
      ]
    },
    {
      "cell_type": "code",
      "metadata": {
        "id": "f0RVlHXYppCG",
        "colab_type": "code",
        "colab": {
          "base_uri": "https://localhost:8080/",
          "height": 34
        },
        "outputId": "8d2f1b43-b5a0-4292-cae2-4b4f865711ff"
      },
      "source": [
        "q = 0.9**(1/6) # требуемая вероятность\n",
        "p = 0.01\n",
        "n = 1 # начальное приближение числа N\n",
        "\n",
        "while sum((1-p)**i*p for i in range(n)) < q:\n",
        "  n += 1\n",
        "n"
      ],
      "execution_count": null,
      "outputs": [
        {
          "output_type": "execute_result",
          "data": {
            "text/plain": [
              "404"
            ]
          },
          "metadata": {
            "tags": []
          },
          "execution_count": 79
        }
      ]
    },
    {
      "cell_type": "markdown",
      "metadata": {
        "id": "RJI2IIkRv5m5",
        "colab_type": "text"
      },
      "source": [
        "(Это же число получим если проверить и в предыдущем решении при требуемой вероятности $0.9^{\\frac{1}{6}}$ и $ k = 1$)\n",
        "\n",
        "Теперь мы проводим независимые испытания сериями по 404 выстрела в каждом из которых с вероятностью $0.9^{\\frac{1}{6}}$ получаем одно попадание.\n",
        "\n",
        "Тогда после 6 серий по 404 выстрела мы имеем 6 попаданий с вероятностью $(0.9^{\\frac{1}{6}})^6 = 0.9$\n",
        "\n",
        "То есть с вероятностью 0.9 мы имеем 6 попаданий после 404*6 = 2424 выстрелов\n",
        "\n",
        "\n"
      ]
    },
    {
      "cell_type": "code",
      "metadata": {
        "id": "FuifomcZ0jcS",
        "colab_type": "code",
        "colab": {}
      },
      "source": [
        ""
      ],
      "execution_count": null,
      "outputs": []
    }
  ]
}